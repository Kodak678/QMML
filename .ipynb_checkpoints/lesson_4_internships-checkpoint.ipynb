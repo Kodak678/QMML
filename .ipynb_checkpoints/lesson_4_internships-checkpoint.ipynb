{
 "cells": [
  {
   "cell_type": "markdown",
   "id": "93adaeba",
   "metadata": {
    "ExecuteTime": {
     "end_time": "2023-10-23T13:35:47.720378Z",
     "start_time": "2023-10-23T13:35:47.716489Z"
    },
    "collapsed": true
   },
   "source": [
    "<h3></h3>"
   ]
  }
 ],
 "metadata": {
  "kernelspec": {
   "display_name": "Python 3 (ipykernel)",
   "language": "python",
   "name": "python3"
  },
  "language_info": {
   "codemirror_mode": {
    "name": "ipython",
    "version": 3
   },
   "file_extension": ".py",
   "mimetype": "text/x-python",
   "name": "python",
   "nbconvert_exporter": "python",
   "pygments_lexer": "ipython3",
   "version": "3.11.5"
  }
 },
 "nbformat": 4,
 "nbformat_minor": 5
}
