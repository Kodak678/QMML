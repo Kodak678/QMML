{
 "cells": [
  {
   "cell_type": "code",
   "execution_count": 49,
   "id": "56f93e0a",
   "metadata": {},
   "outputs": [],
   "source": [
    "import numpy as np\n",
    "import matplotlib.pyplot as plt\n",
    "import pandas as pd"
   ]
  },
  {
   "cell_type": "markdown",
   "id": "cecf460c",
   "metadata": {},
   "source": [
    "<h1> Simple Linear Regression </h1>\n",
    "\n",
    "Linear approach to modelling the relationship between a response variable and one or more explanatory variables.\n",
    "\n",
    "In Simple Linear Regression we have one explanatory variable (e.g. using height to predict weight).\n",
    "\n",
    "Our aim is to find a linear function which predicts the response variable as a function of the explanatory variables.\n",
    "\n",
    "To do so we make use of something called the ordinary least squares method (OLS). Essentially the accuracy of each prediction is measures by its squared residual (residual being the vertical distance between the fitted line and the true data point). With our goal to be minimising the sum of the squared residuals (SSR).\n",
    "\n",
    "Function for a linear regression model:\n",
    "\n",
    "$$ y=\\alpha +\\beta x $$\n",
    "\n",
    "However, we have errors in this as the general relationship may not hold exaclty for the entire population of values of x (explanatory) and y (response). Essentially we cannot model any random process perfectly so we must account for this in our model.\n",
    "\n",
    "so we use the function:\n",
    "\n",
    "$$  y_i = \\alpha + \\beta x_i + \\varepsilon_i $$\n",
    "\n",
    "This is a linear regression model.\n",
    "\n",
    "The crux of this problem is given n data pairs (x_i, y_i) how can we estimate alpha and beta.\n",
    "\n",
    "This is where the error term comes in, the formula for the error term of any data pair is:\n",
    "\n",
    "$$ {\\displaystyle {\\widehat {\\varepsilon }}_{i}=y_{i}-\\alpha -\\beta x_{i}.} $$ \n",
    "\n",
    "(hat means an estimation)\n",
    "\n",
    "Therefore the sum of squared residuals and our problem end up being:\n",
    "\n",
    "$$ {\\displaystyle {\\text{Find }}\\min _{\\alpha ,\\,\\beta }Q(\\alpha ,\\beta ),\\quad {\\text{for }}Q(\\alpha ,\\beta )=\\sum _{i=1}^{n}{\\widehat {\\varepsilon }}_{i}^{\\,2}=\\sum _{i=1}^{n}(y_{i}-\\alpha -\\beta x_{i})^{2}\\ .}$$\n",
    "\n",
    "<h3>There are 2 ways to get an estimate of alpha and beta. The first is with an analytical approach and the second in with an iterative approach. We go over the analytic approach first</h3>\n",
    "\n",
    "With some rearranging we get:\n",
    "\n",
    "$${\\textstyle {\\begin{aligned}{\\widehat {\\alpha }}&={\\bar {y}}-({\\widehat {\\beta }}\\,{\\bar {x}}),\\\\[5pt]{\\widehat {\\beta }}&={\\frac {\\sum _{i=1}^{n}(x_{i}-{\\bar {x}})(y_{i}-{\\bar {y}})}{\\sum _{i=1}^{n}(x_{i}-{\\bar {x}})^{2}}}\\\\[6pt]\\end{aligned}}}$$"
   ]
  },
  {
   "cell_type": "code",
   "execution_count": 5,
   "id": "66b24181",
   "metadata": {},
   "outputs": [],
   "source": [
    "#Calculating alphahat and betahat using the analytical approach\n",
    "x = np.array([1.47,1.50, 1.52, 1.55, 1.57, 1.60, 1.63, 1.65,\n",
    "             1.68, 1.70, 1.73, 1.75, 1.78, 1.80, 1.83])\n",
    "y = np.array([52.21, 53.12, 54.48, 55.84, 57.20, 58.57, 59.93, 61.29,\n",
    "              63.11, 64.47, 66.28, 68.10, 69.92, 72.19, 74.46])"
   ]
  },
  {
   "cell_type": "markdown",
   "id": "52b4ff3b",
   "metadata": {},
   "source": [
    "We need to solve the following equations to estimate beta and alpha hat\n",
    "\n",
    "$${\\textstyle {\\begin{aligned}{\\widehat {\\alpha }}&={\\bar {y}}-({\\widehat {\\beta }}\\,{\\bar {x}}),\\\\[5pt]{\\widehat {\\beta }}&={\\frac {\\sum _{i=1}^{n}(x_{i}-{\\bar {x}})(y_{i}-{\\bar {y}})}{\\sum _{i=1}^{n}(x_{i}-{\\bar {x}})^{2}}}\\\\[6pt]\\end{aligned}}}$$"
   ]
  },
  {
   "cell_type": "code",
   "execution_count": 84,
   "id": "aa61e8df",
   "metadata": {},
   "outputs": [],
   "source": [
    "xbar = x.mean()\n",
    "ybar = y.mean()\n",
    "\n",
    "# beta hat\n",
    "sum_numerator = 0\n",
    "sum_denominator = 0\n",
    "\n",
    "for xi, yi in zip(x, y):\n",
    "    sum_numerator += (xi - xbar) * (yi - ybar)\n",
    "    sum_denominator += (xi-xbar) ** 2\n",
    "\n",
    "betahat = sum_numerator / sum_denominator\n",
    "\n",
    "# alpha hat\n",
    "alphahat = ybar - (betahat*xbar)"
   ]
  },
  {
   "cell_type": "code",
   "execution_count": 45,
   "id": "23617f30",
   "metadata": {},
   "outputs": [
    {
     "data": {
      "text/plain": [
       "(-39.06195591884392, 61.272186542110624)"
      ]
     },
     "execution_count": 45,
     "metadata": {},
     "output_type": "execute_result"
    }
   ],
   "source": [
    "alphahat, betahat"
   ]
  },
  {
   "cell_type": "code",
   "execution_count": 47,
   "id": "5375f102",
   "metadata": {},
   "outputs": [
    {
     "data": {
      "image/png": "[encoded data removed]",
      "text/plain": [
       "<Figure size 432x288 with 1 Axes>"
      ]
     },
     "metadata": {
      "needs_background": "light"
     },
     "output_type": "display_data"
    }
   ],
   "source": [
    "# Create a scatter plot of the data points\n",
    "plt.scatter(x, y, color='blue', label='Data Points')\n",
    "\n",
    "# Generate values for the regression line\n",
    "x_values = np.linspace(min(x), max(x), 100)\n",
    "y_values = betahat * x_values + alphahat\n",
    "\n",
    "# Plot the regression line\n",
    "plt.plot(x_values, y_values, color='red', label='Regression Line')\n",
    "\n",
    "# Label the axes and add a title\n",
    "plt.xlabel('Height (meters)')\n",
    "plt.ylabel('Weight (kilograms)')\n",
    "plt.title('Simple Linear Regression: Height vs Weight')\n",
    "\n",
    "# Add a legend\n",
    "plt.legend()\n",
    "\n",
    "# Show the plot\n",
    "plt.show()"
   ]
  },
  {
   "cell_type": "code",
   "execution_count": 82,
   "id": "f0991267",
   "metadata": {},
   "outputs": [],
   "source": [
    "# The iterative approach using gradient descent\n",
    "\n",
    "alpha = 0\n",
    "beta = 0\n",
    "\n",
    "iterations = 10000\n",
    "learning_rate = 0.01\n",
    "\n",
    "for i in range(iterations):\n",
    "    y_preds = alpha + beta * x\n",
    "    \n",
    "    # Because we are using numpy arrays the y - y_preds will operate element wise we could use for loops to \n",
    "    # do the same thing here\n",
    "    d_alpha = -2 * sum(y - y_preds)\n",
    "    d_beta = -2 * sum(x * (y - y_preds))\n",
    "    \n",
    "    #update alpha and beta\n",
    "    alpha -= learning_rate * d_alpha\n",
    "    beta -=learning_rate * d_beta"
   ]
  },
  {
   "cell_type": "code",
   "execution_count": 83,
   "id": "2e1b155d",
   "metadata": {},
   "outputs": [
    {
     "data": {
      "text/plain": [
       "(-39.06195591883993, 61.2721865421082)"
      ]
     },
     "execution_count": 83,
     "metadata": {},
     "output_type": "execute_result"
    }
   ],
   "source": [
    "alpha, beta"
   ]
  },
  {
   "cell_type": "code",
   "execution_count": null,
   "id": "17938eb3",
   "metadata": {},
   "outputs": [],
   "source": [
    "# Continue using the height vs weight and demo on this at the end if time allows\n",
    "\n",
    "salary_data = pd.read_csv('/Users/moose/Documents/PyCharm_Projects/Karpathy_NN_course/Salary_dataset.csv')\n",
    "salary_data.drop('Unnamed: 0', axis=1, inplace=True)\n",
    "salary_data.head()"
   ]
  }
 ],
 "metadata": {
  "kernelspec": {
   "display_name": "Python 3",
   "language": "python",
   "name": "python3"
  },
  "language_info": {
   "codemirror_mode": {
    "name": "ipython",
    "version": 3
   },
   "file_extension": ".py",
   "mimetype": "text/x-python",
   "name": "python",
   "nbconvert_exporter": "python",
   "pygments_lexer": "ipython3",
   "version": "3.8.8"
  }
 },
 "nbformat": 4,
 "nbformat_minor": 5
}
