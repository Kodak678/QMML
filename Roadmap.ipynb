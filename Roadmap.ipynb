{
 "cells": [
  {
   "cell_type": "markdown",
   "id": "6b5250e3",
   "metadata": {},
   "source": [
    "<h1>QMML Roadmap</h1>\n",
    "\n",
    "<b>In this notebook I will show you what we aim to cover in each session and what you will learn\n",
    "    over the course of your time in QMML weekly monday sessions</b>"
   ]
  },
  {
   "cell_type": "markdown",
   "id": "78731231",
   "metadata": {},
   "source": [
    "<h3><u>Week 1</u></h3>\n",
    "\n",
    "<b>Week 1's session aims to be an introduction to backpropagation and what we will be building over the coming\n",
    "    weeks. We start of by describing what a derivative is and what information it gives us.\n",
    "    We then build out a python class which allows us to implement backpropogation from scratch.</b>"
   ]
  },
  {
   "cell_type": "markdown",
   "id": "7f42b7c4",
   "metadata": {},
   "source": [
    "<h3><u>Week 2</u></h3>\n",
    "\n",
    "<b>Week 2's session was a short intro to python programming basics and some motivational material on why we are covering what we are in the weekly sessions</b>"
   ]
  },
  {
   "cell_type": "markdown",
   "id": "a023194b",
   "metadata": {},
   "source": [
    "<h3><u>Week 3</u></h3>\n",
    "\n",
    "<b>Week 3 will see us continue on from Week 1, we will quickly cover what was done in week 1 to show us how to put into action the methods we learnt in week 2 and apply them to the problem of backpropogation</b>\n",
    "<b>More specifically I will walk you through taking derivatives and what information they give, show how to do this manually in Python and show how we can take the derivative of a neuron. Lastly, we aim to implement the backward method, which will automatically backpropogate an expression we pass to the method</b>"
   ]
  },
  {
   "cell_type": "code",
   "execution_count": null,
   "id": "149386c5",
   "metadata": {},
   "outputs": [],
   "source": []
  }
 ],
 "metadata": {
  "kernelspec": {
   "display_name": "Python 3 (ipykernel)",
   "language": "python",
   "name": "python3"
  },
  "language_info": {
   "codemirror_mode": {
    "name": "ipython",
    "version": 3
   },
   "file_extension": ".py",
   "mimetype": "text/x-python",
   "name": "python",
   "nbconvert_exporter": "python",
   "pygments_lexer": "ipython3",
   "version": "3.11.5"
  }
 },
 "nbformat": 4,
 "nbformat_minor": 5
}
