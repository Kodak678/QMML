{
 "cells": [
  {
   "cell_type": "markdown",
   "id": "806a34ab",
   "metadata": {
    "ExecuteTime": {
     "end_time": "2023-10-23T13:35:47.720378Z",
     "start_time": "2023-10-23T13:35:47.716489Z"
    },
    "collapsed": true
   },
   "source": [
    "<h1><u>My Thoughts and Guidance on Getting Internships</u></h1>\n",
    "\n",
    "<p>A slight caveat before we begin these are my anecdotal findings and what worked for me, it may or may\n",
    "not work for you. But I hope my methods are general enough to apply to you and your life to help you secure\n",
    "an internship/graduate offer.</p>"
   ]
  },
  {
   "cell_type": "markdown",
   "id": "31af3e3f",
   "metadata": {},
   "source": [
    "<h2><u>First year - Your most important year at university (for getting an internship)</u></h2>\n",
    "\n",
    "<b>Why is you first year so important?</b>\n",
    "<p>\n",
    "    <li>You have a lot more time than in second and third year.</li>\n",
    "    <li>Taking on projects will give you things to talk about in your interviews, you need more than just\n",
    "        what you cover in your course.</li>\n",
    "    <li>Your main aim during Year 1 should be to build up a solid bank of projects and experiences to add to\n",
    "        you CV and give you talking points in both interviews and pre-recorded video interviews.</li>\n",
    "    <li>For data scientists the projects you should be working on are kaggle competitions, dashboard\n",
    "        creation and studying the methodology behind machine learning.</li>\n",
    "    <li>Another key area to focus on is algorithms, you need to practise Leetcode/Hackerrank, this\n",
    "        is a major factor in your applications next year.</li>\n",
    "    <li>You should endeavour to secure spring weeks, these will put you into the best position going\n",
    "        into your second year.</li>\n",
    "</p>\n",
    "\n",
    "<b>In first year your first goal is to beef up your CV through projects, work experience and spring weeks.\n",
    "And secondly you must get ready to pass the assessments that you will face in year 2.</b>\n",
    "\n",
    "<h3><u>Resources</u></h3>\n",
    "\n",
    "[Application Tracker](\"https://docs.google.com/spreadsheets/u/1/d/1Zk13bgREvD2Fev2XKJasyyx-BV2SYimA/htmlview#\") - I'd recommend you use this to find companies and research their other open positions, as these roles are finance based but alot of these companies also offer tech positions\n",
    "\n",
    "[Leetcode](\"https://leetcode.com/problemset/all/\") - For leetcodes I've found the most difficult questions you face next year will be based on the topic of Dynamic Programming and you should also get familiar with topics like linked-lists, graph traversal algorithms (depth-first search, breadth-first search), backtracking, string problems.\n",
    "\n",
    "[Hackerrank](\"https://www.hackerrank.com/dashboard\") - Same as above, just a different platform.\n",
    "\n",
    "[Kaggle](\"https://www.kaggle.com/competitions\") - You don't need to be the best in these competitions just get involved and start exploring, we have a [groupchat](\"https://chat.whatsapp.com/EJUZRkldTQnD5CFz6Pg8i3\") where we will work on these together.\n",
    "\n",
    "[Software volunteering](\"https://www.wemakechange.org/individuals\") - Great way to build experience in real world environments"
   ]
  },
  {
   "cell_type": "markdown",
   "id": "a597d15b",
   "metadata": {},
   "source": [
    "<h2><u>Second year - The pivotal point</u></h2>\n",
    "\n",
    "<b>Your second year is the year you put into practice the things you learnt from your first year</b>"
   ]
  },
  {
   "cell_type": "code",
   "execution_count": null,
   "id": "72e290b9",
   "metadata": {},
   "outputs": [],
   "source": [
    "Third year"
   ]
  }
 ],
 "metadata": {
  "kernelspec": {
   "display_name": "Python 3 (ipykernel)",
   "language": "python",
   "name": "python3"
  },
  "language_info": {
   "codemirror_mode": {
    "name": "ipython",
    "version": 3
   },
   "file_extension": ".py",
   "mimetype": "text/x-python",
   "name": "python",
   "nbconvert_exporter": "python",
   "pygments_lexer": "ipython3",
   "version": "3.11.5"
  }
 },
 "nbformat": 4,
 "nbformat_minor": 5
}
