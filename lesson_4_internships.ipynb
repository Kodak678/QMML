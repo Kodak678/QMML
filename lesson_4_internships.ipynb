{
 "cells": [
  {
   "cell_type": "markdown",
   "id": "211c5366",
   "metadata": {
    "ExecuteTime": {
     "end_time": "2023-10-23T13:35:47.720378Z",
     "start_time": "2023-10-23T13:35:47.716489Z"
    },
    "collapsed": true
   },
   "source": [
    "<h1><u>My Thoughts and Guidance on Getting Internships</u></h1>\n",
    "\n",
    "<p>A slight caveat before we begin these are my anecdotal findings and what worked for me, it may or may\n",
    "not work for you. But I hope my methods are general enough to apply to you and your life to help you secure\n",
    "an internship/graduate offer.</p>"
   ]
  },
  {
   "cell_type": "markdown",
   "id": "adeb6ac11a9c17af",
   "metadata": {},
   "source": [
    "<h2>Why are you here at university and at this session here today?</h2>"
   ]
  },
  {
   "cell_type": "markdown",
   "id": "32de2f3f75a47109",
   "metadata": {},
   "source": [
    "<h2><u>First Year - Your Most Important Year at University (For Getting an Internship)</u></h2>\n",
    "\n",
    "<b>Why is your first year so important?</b>\n",
    "<p>\n",
    "    <li>You can change your future, but you cannot change the past.</li>\n",
    "    <li>You have a lot more time than in second and third year.</li>\n",
    "    <li>Taking on projects will give you things to talk about in your interviews, you need more than just\n",
    "        what you cover in your course.</li>\n",
    "    <li>Your main aim during Year 1 should be to build up a solid bank of projects and experiences to add to\n",
    "        you CV and give you talking points in both interviews and pre-recorded video interviews.</li>\n",
    "    <li>For data scientists the projects you should be working on are kaggle competitions, dashboard\n",
    "        creation and studying the methodology behind machine learning.</li>\n",
    "    <li>Another key area to focus on is algorithms, you need to practise Leetcode/Hackerrank, this\n",
    "        is a major factor in your applications next year.</li>\n",
    "    <li>You should endeavour to secure spring weeks, these will put you into the best position going\n",
    "        into your second year.</li>\n",
    "</p>\n",
    "\n",
    "<b>In first year your first goal is to beef up your CV through projects, work experience and spring weeks.\n",
    "And secondly you must get ready to pass the assessments that you will face in year 2.</b>\n",
    "\n",
    "<h3><u>Resources</u></h3>\n",
    "\n",
    "<a href=\"https://docs.google.com/spreadsheets/u/1/d/1Zk13bgREvD2Fev2XKJasyyx-BV2SYimA/htmlview#\">Application Tracker</a> - I'd recommend you use this to find companies and research their other open positions, as these roles are finance based but alot of these companies also offer tech positions.\n",
    "\n",
    "<a href=\"https://leetcode.com/problemset/all/\">Leetcode</a> - For leetcodes I've found the most difficult questions you face next year will be based on the topic of Dynamic Programming and you should also get familiar with topics like linked-lists, graph traversal algorithms (depth-first search, breadth-first search), backtracking, string problems. I want to stress this is a slow and steady process, it will take a long time to build your abilities here (6-12 months). <a href=\"https://matklad.github.io/2023/08/13/role-of-algorithms.html\">They are practical too!</a>\n",
    "\n",
    "<a href=\"https://www.hackerrank.com/dashboard\">HackerRank</a> - Same as above, just a different platform.\n",
    "\n",
    "<a href=\"https://www.kaggle.com/competitions\">Kaggle</a> - You don't need to be the best in these competitions just get involved and start exploring, we have a <a href=\"https://chat.whatsapp.com/EJUZRkldTQnD5CFz6Pg8i3\">WhatsApp groupchat</a> where we will work on these together.\n",
    "\n",
    "<a href=\"https://www.wemakechange.org/individuals\">Software volunteering</a> - Great way to build experience in real world environments\n",
    "\n",
    "<a href=\"https://github.com/YM2132/QMML/blob/main/Generic_CV_template.docx\">CV Template</a> - This is the template that I use, remember your CV will be reviewed by software before it ever sees eyes so simple in formatting is better and when eyes do look at it you want to make it as easy as possible for them to parse it."
   ]
  },
  {
   "cell_type": "markdown",
   "id": "3b4ff4de3df81bc4",
   "metadata": {},
   "source": [
    "<h2><u>Penultimate (Second) Year - The Pivotal Point</u></h2>\n",
    "\n",
    "<b>Your second year is the year you put into practice the things you learnt from your first year, \n",
    "    all the while you continue developing you portfolio of projects and algorithmic capabilities.\n",
    "</b>\n",
    "<p>\n",
    "    <li>The internship application season lasts from September to December, bear in mind that most positions\n",
    "        will be filled by around November, so you want to get applying early.</li>\n",
    "    <li>The process for tech companies usually goes: Techincal assessment (leetcode style questions) \n",
    "        -> Video interview (pre-recorded questions) -> Assessment day/final interviews.</li>\n",
    "    <li>Some companies may also utilise psychometric tests, e.g. non-verbal reasoning, induction etc.</li>\n",
    "    <li>The hardest part of interviews is getting past the first 2 stages, around 2.5% of people make it to\n",
    "        final interview, so most fail at the earlier stages. \n",
    "        <b>My advice for getting past assessments is to be quick you must be fast, my rule \n",
    "        of thumb is to use at max 50% of the time they allocate for the test. For video interviews, you \n",
    "        have to prep, research the types of questions asked and prep answers in advance.</b></li>\n",
    "    <li>Not all companies are the same, there are levels to this game.</li>\n",
    "</p>\n",
    "\n",
    "<b>In your second year you main aim is to secure an internship, this should be your number one goal. If you \n",
    "    secure an internship here you will find your third year to be much less stressful as usually on completion\n",
    "    of a successful summer internhship you are offered a full time position and if you aren't you still have \n",
    "    extermely valuable experience under your belt.\n",
    "</b>\n",
    "<br></br>\n",
    "<b>\n",
    "    A word to the wise, this process will be difficult, you will get many rejections hence it is a numbers game\n",
    "    you should endeavour to apply to as many places as you can and don't be too selective (e.g. if you want to\n",
    "    go into ML you should still apply to software engineering roles).\n",
    "</b>\n",
    "<h3><u>Resources</u></h3>\n",
    "\n",
    "<a href=\"https://docs.google.com/spreadsheets/u/1/d/1Zk13bgREvD2Fev2XKJasyyx-BV2SYimA/htmlview#\">Application Tracker</a> - Same as above, it has information on internships too.\n",
    "\n",
    "<a href=\"https://www.brightnetwork.co.uk/internships/\">Bright network</a> - Great site to find internships, there are many other like it.\n",
    "\n",
    "I'd recommend you create your own application spread sheet, keeping track of where you applied, the current\n",
    "status of your application and the role you applied for."
   ]
  },
  {
   "cell_type": "markdown",
   "id": "6efe8b3cdc56450d",
   "metadata": {},
   "source": [
    "<h2><u>Final (Third) Year - The End of Your Undergraduate Journey</u></h2>\n",
    "\n",
    "<b>The actions you take in your final year are determined by whether or not you secured an internship in \n",
    "    second year and if you did were you offered a graduate position or not. If you did not secure an internship\n",
    "    fear not, there is still work to be done and you can still succeed.\n",
    "</b>\n",
    "\n",
    "<h4>If you got an internship:</h4>\n",
    "<p>\n",
    "    <li>You are in a great place to push forward, when I mentioned earlier that not all companies are the same\n",
    "        with an internship under your belt you can push yourself and apply to an even better position for grad\n",
    "        schemes.</li>\n",
    "    <li> When applying this time around you can afford to be a lot more selective and perhaps go for your dream\n",
    "    <li>If you got an offer at the end of an internship you always have the option of just stepping back from\n",
    "        the career track and focusing your energy in other places.</li>\n",
    "</p>\n",
    "<h4>If you did not get an internship:</h4>\n",
    "<p>\n",
    "    <li>You apply to grad schemes, I would suggest casting a wide net to maximise your chances. It's common\n",
    "        knowledge that graduate schemes are much more competitive than internship (consider graduate positions\n",
    "        are full time roles and so companies must be a lot more selective).</li>\n",
    "    <li>However you are still in a good position, you must showcase the skills you have built through projects\n",
    "        over the past 2 years.</li>\n",
    "</p>\n",
    "\n",
    "<b>In your final year if you do not have an internship do not worry, you will secure a grad role "
   ]
  }
 ],
 "metadata": {
  "kernelspec": {
   "display_name": "Python 3 (ipykernel)",
   "language": "python",
   "name": "python3"
  },
  "language_info": {
   "codemirror_mode": {
    "name": "ipython",
    "version": 3
   },
   "file_extension": ".py",
   "mimetype": "text/x-python",
   "name": "python",
   "nbconvert_exporter": "python",
   "pygments_lexer": "ipython3",
   "version": "3.11.5"
  }
 },
 "nbformat": 4,
 "nbformat_minor": 5
}
