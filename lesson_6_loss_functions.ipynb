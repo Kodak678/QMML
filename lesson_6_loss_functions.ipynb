{
 "cells": [
  {
   "cell_type": "code",
   "execution_count": 1,
   "id": "0098dcab",
   "metadata": {},
   "outputs": [],
   "source": [
    "import matplotlib.pyplot as plt\n",
    "import numpy as np\n",
    "import pandas as pd\n",
    "from sklearn import datasets\n",
    "from sklearn.model_selection import train_test_split"
   ]
  },
  {
   "cell_type": "code",
   "execution_count": 3,
   "id": "5fc8d159",
   "metadata": {},
   "outputs": [],
   "source": [
    "def euclidean_distance(p, q):\n",
    "    distance = 0\n",
    "    for i in range(len(q)):\n",
    "        distance += (p[i] - q[i])**2\n",
    "    \n",
    "    return distance**0.5"
   ]
  },
  {
   "cell_type": "code",
   "execution_count": 29,
   "id": "7c50cc09",
   "metadata": {},
   "outputs": [],
   "source": [
    "# Give example of iris data\n",
    "data = datasets.load_iris() # Loads a dict examine it\n",
    "\n",
    "X = data.data[:]\n",
    "y = data.target[:]\n",
    "\n",
    "X_train, X_test, y_train, y_test = train_test_split(X, y, test_size=0.5)"
   ]
  },
  {
   "cell_type": "code",
   "execution_count": 25,
   "id": "cf7f5792",
   "metadata": {},
   "outputs": [
    {
     "name": "stdout",
     "output_type": "stream",
     "text": [
      "[2, 2, 0, 2, 2, 2, 2, 2, 1, 0, 2, 1, 2, 2, 1, 1, 0, 2, 1, 1, 1, 1, 0, 2, 2, 1, 0, 0, 0, 1, 0, 1, 1, 2, 2, 0, 1, 0, 2, 1, 1, 1, 0, 1, 2, 1, 2, 2, 0, 1, 2, 0, 0, 2, 1, 0, 2, 1, 1, 2, 2, 1, 2, 0, 2, 1, 2, 1, 0, 1, 0, 0, 2, 2, 2]\n"
     ]
    }
   ],
   "source": [
    "# Lets use our ED function on our iris data, this will calculate the distance between our 2 test features and \n",
    "# all train features\n",
    "y_preds = []\n",
    "\n",
    "k = 3\n",
    "\n",
    "for test_feature in X_test:\n",
    "    distances = []\n",
    "    for x in X_train:        \n",
    "        # Use list after showing with just printing\n",
    "        distances.append(euclidean_distance(test_feature, x))\n",
    "        # We do not need to explicitly store the index, the ith element in the distances array is the distance between\n",
    "        # test_feature and the ith neihbour\n",
    "\n",
    "    # we cant use .sort() as it would mess up the indices\n",
    "    distances = np.argsort(distances) # We use argsort as it sorts the array and returns the indices which would\n",
    "                                      # sort the array not the sorted array\n",
    "    k_nearest_neighbours = []\n",
    "    # :k sets k NN\n",
    "    for i in distances[:k]:\n",
    "        k_nearest_neighbours.append(y_train[i])\n",
    "    \n",
    "    \n",
    "    # Now we need to vote on the majority class in the nearest neighbours\n",
    "    count_dict = {}\n",
    "    for i in k_nearest_neighbours:\n",
    "        if i in count_dict:\n",
    "            count_dict[i] += 1\n",
    "        else:\n",
    "            count_dict[i] = 1\n",
    "    \n",
    "    y_preds.append(max(count_dict, key=count_dict.get))\n",
    "\n",
    "print(y_preds)"
   ]
  },
  {
   "cell_type": "code",
   "execution_count": 26,
   "id": "05751fb6",
   "metadata": {
    "scrolled": true
   },
   "outputs": [
    {
     "data": {
      "text/plain": [
       "array([2, 2, 0, 2, 1, 1, 1, 2, 1, 0, 2, 1, 2, 2, 1, 1, 0, 2, 1, 1, 1, 1,\n",
       "       0, 2, 2, 1, 0, 0, 0, 1, 0, 1, 1, 2, 2, 0, 1, 0, 2, 1, 1, 1, 0, 1,\n",
       "       2, 1, 2, 2, 0, 1, 2, 0, 0, 2, 1, 0, 2, 1, 1, 2, 2, 1, 2, 0, 2, 1,\n",
       "       2, 1, 0, 1, 0, 0, 2, 2, 2])"
      ]
     },
     "execution_count": 26,
     "metadata": {},
     "output_type": "execute_result"
    }
   ],
   "source": [
    "y_test"
   ]
  },
  {
   "cell_type": "code",
   "execution_count": 37,
   "id": "490e520b",
   "metadata": {},
   "outputs": [
    {
     "name": "stdout",
     "output_type": "stream",
     "text": [
      "0\n",
      "0\n",
      "0\n",
      "2\n",
      "1\n",
      "2\n",
      "1\n",
      "1\n",
      "2\n",
      "1\n",
      "0\n",
      "2\n",
      "0\n",
      "2\n",
      "0\n",
      "2\n",
      "1\n",
      "0\n",
      "0\n",
      "0\n",
      "1\n",
      "2\n",
      "1\n",
      "0\n",
      "2\n",
      "2\n",
      "2\n",
      "2\n",
      "2\n",
      "2\n",
      "0\n",
      "1\n",
      "2\n",
      "1\n",
      "0\n",
      "2\n",
      "1\n",
      "1\n",
      "1\n",
      "0\n",
      "0\n",
      "0\n",
      "2\n",
      "1\n",
      "2\n",
      "2\n",
      "1\n",
      "0\n",
      "2\n",
      "0\n",
      "0\n",
      "1\n",
      "0\n",
      "1\n",
      "1\n",
      "2\n",
      "2\n",
      "2\n",
      "2\n",
      "2\n",
      "0\n",
      "1\n",
      "0\n",
      "2\n",
      "1\n",
      "2\n",
      "1\n",
      "0\n",
      "2\n",
      "0\n",
      "0\n",
      "0\n",
      "0\n",
      "1\n",
      "2\n"
     ]
    }
   ],
   "source": [
    "for i in y_test:\n",
    "    print(i)"
   ]
  },
  {
   "cell_type": "code",
   "execution_count": 27,
   "id": "704bf647",
   "metadata": {},
   "outputs": [
    {
     "name": "stdout",
     "output_type": "stream",
     "text": [
      "(2, 2)\n",
      "(2, 2)\n",
      "(0, 0)\n",
      "(2, 2)\n",
      "(2, 1)\n",
      "(2, 1)\n",
      "(2, 1)\n",
      "(2, 2)\n",
      "(1, 1)\n",
      "(0, 0)\n",
      "(2, 2)\n",
      "(1, 1)\n",
      "(2, 2)\n",
      "(2, 2)\n",
      "(1, 1)\n",
      "(1, 1)\n",
      "(0, 0)\n",
      "(2, 2)\n",
      "(1, 1)\n",
      "(1, 1)\n",
      "(1, 1)\n",
      "(1, 1)\n",
      "(0, 0)\n",
      "(2, 2)\n",
      "(2, 2)\n",
      "(1, 1)\n",
      "(0, 0)\n",
      "(0, 0)\n",
      "(0, 0)\n",
      "(1, 1)\n",
      "(0, 0)\n",
      "(1, 1)\n",
      "(1, 1)\n",
      "(2, 2)\n",
      "(2, 2)\n",
      "(0, 0)\n",
      "(1, 1)\n",
      "(0, 0)\n",
      "(2, 2)\n",
      "(1, 1)\n",
      "(1, 1)\n",
      "(1, 1)\n",
      "(0, 0)\n",
      "(1, 1)\n",
      "(2, 2)\n",
      "(1, 1)\n",
      "(2, 2)\n",
      "(2, 2)\n",
      "(0, 0)\n",
      "(1, 1)\n",
      "(2, 2)\n",
      "(0, 0)\n",
      "(0, 0)\n",
      "(2, 2)\n",
      "(1, 1)\n",
      "(0, 0)\n",
      "(2, 2)\n",
      "(1, 1)\n",
      "(1, 1)\n",
      "(2, 2)\n",
      "(2, 2)\n",
      "(1, 1)\n",
      "(2, 2)\n",
      "(0, 0)\n",
      "(2, 2)\n",
      "(1, 1)\n",
      "(2, 2)\n",
      "(1, 1)\n",
      "(0, 0)\n",
      "(1, 1)\n",
      "(0, 0)\n",
      "(0, 0)\n",
      "(2, 2)\n",
      "(2, 2)\n",
      "(2, 2)\n"
     ]
    }
   ],
   "source": [
    "for i in zip(y_preds, y_test):\n",
    "    print(i)"
   ]
  },
  {
   "cell_type": "code",
   "execution_count": 28,
   "id": "33ad4e98",
   "metadata": {},
   "outputs": [
    {
     "data": {
      "text/plain": [
       "0.96"
      ]
     },
     "execution_count": 28,
     "metadata": {},
     "output_type": "execute_result"
    }
   ],
   "source": [
    "# accuracy = number of correct predictions / number of total predictions\n",
    "\n",
    "accuracy = np.sum(y_test == y_preds, axis=0) / len(y_test)\n",
    "accuracy"
   ]
  },
  {
   "cell_type": "code",
   "execution_count": 35,
   "id": "ba19259e",
   "metadata": {},
   "outputs": [
    {
     "name": "stdout",
     "output_type": "stream",
     "text": [
      "0 2\n",
      "0 2\n",
      "0 0\n",
      "2 2\n",
      "1 2\n",
      "2 2\n",
      "1 2\n",
      "1 2\n",
      "2 1\n",
      "1 0\n",
      "0 2\n",
      "2 1\n",
      "0 2\n",
      "2 2\n",
      "0 1\n",
      "2 1\n",
      "1 0\n",
      "0 2\n",
      "0 1\n",
      "0 1\n",
      "1 1\n",
      "2 1\n",
      "1 0\n",
      "0 2\n",
      "2 2\n",
      "2 1\n",
      "2 0\n",
      "2 0\n",
      "2 0\n",
      "2 1\n",
      "0 0\n",
      "1 1\n",
      "2 1\n",
      "1 2\n",
      "0 2\n",
      "2 0\n",
      "1 1\n",
      "1 0\n",
      "1 2\n",
      "0 1\n",
      "0 1\n",
      "0 1\n",
      "2 0\n",
      "1 1\n",
      "2 2\n",
      "2 1\n",
      "1 2\n",
      "0 2\n",
      "2 0\n",
      "0 1\n",
      "0 2\n",
      "1 0\n",
      "0 0\n",
      "1 2\n",
      "1 1\n",
      "2 0\n",
      "2 2\n",
      "2 1\n",
      "2 1\n",
      "2 2\n",
      "0 2\n",
      "1 1\n",
      "0 2\n",
      "2 0\n",
      "1 2\n",
      "2 1\n",
      "1 2\n",
      "0 1\n",
      "2 0\n",
      "0 1\n",
      "0 0\n",
      "0 0\n",
      "0 2\n",
      "1 2\n",
      "2 2\n"
     ]
    },
    {
     "data": {
      "text/plain": [
       "array([[ 5,  5,  9],\n",
       "       [ 9,  6, 11],\n",
       "       [12, 10,  8]])"
      ]
     },
     "execution_count": 35,
     "metadata": {},
     "output_type": "execute_result"
    }
   ],
   "source": [
    "# Confusion matrix will tell us where we went wrong\n",
    "# TP FP TN FN\n",
    "# \n",
    "\n",
    "num_classes = 3\n",
    "\n",
    "# init an nxn matrix with positions as classes\n",
    "confusion_matrix = np.zeros((num_classes, num_classes), dtype=int)\n",
    "\n",
    "for i in range(len(y_preds)):\n",
    "    print(y_test[i], y_preds[i])\n",
    "    confusion_matrix[y_preds[i]][y_test[i]] += 1\n",
    "\n",
    "confusion_matrix"
   ]
  },
  {
   "cell_type": "code",
   "execution_count": null,
   "id": "b2b07a95",
   "metadata": {},
   "outputs": [],
   "source": []
  }
 ],
 "metadata": {
  "kernelspec": {
   "display_name": "Python 3",
   "language": "python",
   "name": "python3"
  },
  "language_info": {
   "codemirror_mode": {
    "name": "ipython",
    "version": 3
   },
   "file_extension": ".py",
   "mimetype": "text/x-python",
   "name": "python",
   "nbconvert_exporter": "python",
   "pygments_lexer": "ipython3",
   "version": "3.8.8"
  }
 },
 "nbformat": 4,
 "nbformat_minor": 5
}
