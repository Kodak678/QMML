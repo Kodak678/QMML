{
 "cells": [
  {
   "cell_type": "code",
   "execution_count": 2,
   "id": "initial_id",
   "metadata": {
    "ExecuteTime": {
     "end_time": "2023-12-11T14:33:13.717806Z",
     "start_time": "2023-12-11T14:33:13.715390Z"
    }
   },
   "outputs": [],
   "source": [
    "import simple_linear_regression_module as simple_lr\n",
    "import pandas as pd"
   ]
  },
  {
   "cell_type": "code",
   "execution_count": 8,
   "id": "ef9636a67ec5043d",
   "metadata": {},
   "outputs": [],
   "source": [
    "train_df = pd.read_csv('./playground-series-s3e16/train.csv')\n",
    "eval_df = pd.read_csv('./playground-series-s3e16/test.csv')\n",
    "\n",
    "train_df.head()\n",
    "\n",
    "x = train_df['Length']\n",
    "y = train_df['Age']"
   ]
  },
  {
   "cell_type": "code",
   "execution_count": 9,
   "id": "2af20501",
   "metadata": {},
   "outputs": [
    {
     "data": {
      "text/plain": [
       "(74051, 49368)"
      ]
     },
     "execution_count": 9,
     "metadata": {},
     "output_type": "execute_result"
    }
   ],
   "source": [
    "len(train_df), len(eval_df)"
   ]
  },
  {
   "cell_type": "code",
   "execution_count": 17,
   "id": "25816ea4",
   "metadata": {},
   "outputs": [
    {
     "data": {
      "text/plain": [
       "id\n",
       "74051      8.160661\n",
       "74052      8.920871\n",
       "74053      9.765549\n",
       "74054     11.539373\n",
       "74055      8.583000\n",
       "            ...    \n",
       "123414     9.850017\n",
       "123415     8.076193\n",
       "123416    11.117034\n",
       "123417     9.427678\n",
       "123418    12.299583\n",
       "Name: Length, Length: 49368, dtype: float64"
      ]
     },
     "execution_count": 17,
     "metadata": {},
     "output_type": "execute_result"
    }
   ],
   "source": [
    "# First train the model with just the train data and make your predictions on the eval data and upload it\n",
    "# Kaggle and see what result you get!\n",
    "analytical_alphahat, analytical_betahat = simple_lr.analytic_approach_simple_LR(x, y)\n",
    "iterative_alphahat, iterative_betahat = simple_lr.iterative_approach_simple_LR(x, y, iterations=1000, lr=0.1)\n",
    "\n",
    "test_df = pd.read_csv('./playground-series-s3e16/test.csv')\n",
    "test_df.index = test_df['id']\n",
    "test_x = test_df['Length']\n",
    "\n",
    "y_preds = iterative_betahat * test_x + iterative_alphahat\n",
    "print(y_preds.head())\n",
    "\n",
    "y_preds = pd.DataFrame(y_preds)\n",
    "y_preds = y_preds.rename(columns={\"Length\": \"Age\"})\n",
    "y_preds.to_csv('./simple_LR_Len_crab_preds.csv') # Change the path to suit your needs"
   ]
  },
  {
   "cell_type": "code",
   "execution_count": 15,
   "id": "c56fb77c",
   "metadata": {},
   "outputs": [],
   "source": [
    "# Now create a train test split with just the training data and tune the model a bit\n",
    "# We can change the number of iterations and learning_rate in the iterative model\n",
    "# Run on the eval set and see what effect this had"
   ]
  },
  {
   "cell_type": "code",
   "execution_count": null,
   "id": "0cfedcb9",
   "metadata": {},
   "outputs": [],
   "source": [
    "# Lastly try some other models the scikit-learn (https://scikit-learn.org/stable/user_guide.html) \n",
    "# library has many! "
   ]
  }
 ],
 "metadata": {
  "kernelspec": {
   "display_name": "Python 3 (ipykernel)",
   "language": "python",
   "name": "python3"
  },
  "language_info": {
   "codemirror_mode": {
    "name": "ipython",
    "version": 3
   },
   "file_extension": ".py",
   "mimetype": "text/x-python",
   "name": "python",
   "nbconvert_exporter": "python",
   "pygments_lexer": "ipython3",
   "version": "3.11.5"
  }
 },
 "nbformat": 4,
 "nbformat_minor": 5
}
