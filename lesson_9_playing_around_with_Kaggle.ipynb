{
 "cells": [
  {
   "cell_type": "code",
   "execution_count": 2,
   "id": "initial_id",
   "metadata": {
    "ExecuteTime": {
     "end_time": "2023-12-11T14:33:13.717806Z",
     "start_time": "2023-12-11T14:33:13.715390Z"
    }
   },
   "outputs": [],
   "source": [
    "import simple_linear_regression_module as simple_lr\n",
    "import pandas as pd"
   ]
  },
  {
   "cell_type": "code",
   "execution_count": 8,
   "id": "ef9636a67ec5043d",
   "metadata": {},
   "outputs": [],
   "source": [
    "train_df = pd.read_csv('./playground-series-s3e16/train.csv')\n",
    "eval_df = pd.read_csv('./playground-series-s3e16/test.csv')\n",
    "\n",
    "train_df.head()\n",
    "\n",
    "x = train_df['Length']\n",
    "y = train_df['Age']"
   ]
  },
  {
   "cell_type": "code",
   "execution_count": 9,
   "id": "30f2c9d8",
   "metadata": {},
   "outputs": [
    {
     "data": {
      "text/plain": [
       "(74051, 49368)"
      ]
     },
     "execution_count": 9,
     "metadata": {},
     "output_type": "execute_result"
    }
   ],
   "source": [
    "len(train_df), len(eval_df)"
   ]
  },
  {
   "cell_type": "code",
   "execution_count": 10,
   "id": "9bc8da0c",
   "metadata": {},
   "outputs": [],
   "source": [
    "# First train out model with just the train data and make your predictions on the eval data and upload it\n",
    "# Kaggle and see what result you get!"
   ]
  },
  {
   "cell_type": "code",
   "execution_count": 15,
   "id": "09d3abdf",
   "metadata": {},
   "outputs": [],
   "source": [
    "# Now create a train test split with just the training data and tune the model a bit\n",
    "# We can change the number of iterations and learning_rate in the iterative model\n",
    "# Run on the eval set and see what effect this had"
   ]
  },
  {
   "cell_type": "code",
   "execution_count": null,
   "id": "b8480fc2",
   "metadata": {},
   "outputs": [],
   "source": [
    "# Lastly try some other models the scikit-learn library has many! "
   ]
  }
 ],
 "metadata": {
  "kernelspec": {
   "display_name": "Python 3",
   "language": "python",
   "name": "python3"
  },
  "language_info": {
   "codemirror_mode": {
    "name": "ipython",
    "version": 3
   },
   "file_extension": ".py",
   "mimetype": "text/x-python",
   "name": "python",
   "nbconvert_exporter": "python",
   "pygments_lexer": "ipython3",
   "version": "3.8.8"
  }
 },
 "nbformat": 4,
 "nbformat_minor": 5
}
